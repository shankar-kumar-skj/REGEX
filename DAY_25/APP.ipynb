{
 "cells": [
  {
   "cell_type": "markdown",
   "id": "302c6b3e",
   "metadata": {},
   "source": [
    "# DAY 25"
   ]
  },
  {
   "cell_type": "code",
   "execution_count": null,
   "id": "7afea509",
   "metadata": {},
   "outputs": [],
   "source": []
  }
 ],
 "metadata": {
  "language_info": {
   "name": "python"
  }
 },
 "nbformat": 4,
 "nbformat_minor": 5
}
