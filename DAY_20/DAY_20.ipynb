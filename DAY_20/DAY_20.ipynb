{
 "cells": [
  {
   "cell_type": "markdown",
   "id": "4a80dd4c",
   "metadata": {},
   "source": [
    "# PROJECT STARTED"
   ]
  },
  {
   "cell_type": "code",
   "execution_count": null,
   "id": "21e2a4cb",
   "metadata": {
    "vscode": {
     "languageId": "plaintext"
    }
   },
   "outputs": [],
   "source": []
  }
 ],
 "metadata": {
  "language_info": {
   "name": "python"
  }
 },
 "nbformat": 4,
 "nbformat_minor": 5
}
