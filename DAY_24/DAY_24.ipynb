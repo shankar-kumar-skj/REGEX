{
 "cells": [
  {
   "cell_type": "markdown",
   "id": "8c86cc63",
   "metadata": {},
   "source": [
    "# DAY 24"
   ]
  },
  {
   "cell_type": "markdown",
   "id": "b48258ab",
   "metadata": {},
   "source": [
    "### OPTIMIZERS"
   ]
  },
  {
   "cell_type": "code",
   "execution_count": 3,
   "id": "23242487",
   "metadata": {},
   "outputs": [],
   "source": [
    "# (1.) STOACSTIC GRADIENT DESCENT --> IT IS BETTER FOR ML BUT NOT GOOD FOR DL \n",
    "#                                 --> STUKING IN LOCAL MINIMA\n",
    "#                                 --> (acculation ka time ma stuck ho jata ha!)\n",
    "# (2.) MOMENTUM ---> IT REMOVE THE ISSUE OF STUKING IN LOCAL MINIMA BY CALCULATION\n",
    "#               ---> PREVIOUS SQUARED GRADIENT\n",
    "# (3.) NAG ---> it will tell future direction of the element by calculating future squared gradient as well as previous squared gradient\n",
    "# (4.) RMSProp ---> IT PROVIDES THE AUTOMATIC LEARNING RATE\n",
    "# (5.) ADAM ---> IT IS COMBINATION OF MOMENTUM + RMSprop"
   ]
  },
  {
   "cell_type": "code",
   "execution_count": 4,
   "id": "78e05b14",
   "metadata": {},
   "outputs": [],
   "source": [
    "# ACTIVATION FUNCTION -->\n",
    "#  THESE ARE THE MATHEMATICAL FUNCTION THAT IS USED FOR CAPTURE THE NON-LINEARITY INTO DATA\n",
    "# (1.) NUMERICAL DATA --> ReLU (rectified )\n",
    "# (2.) categorical data --->\n",
    "# (3.) Sigmoid ---> it is used when we have 2 sub-category in target column.\n",
    "# (4.) Softmax --> it is used when we have more than 2 sub-category in target column."
   ]
  },
  {
   "cell_type": "markdown",
   "id": "8d28f324",
   "metadata": {},
   "source": [
    "# ANN (ARTIFICAL NUREAL NETWORK)"
   ]
  },
  {
   "cell_type": "markdown",
   "id": "683ccaa1",
   "metadata": {},
   "source": [
    "ANOTHER FILE"
   ]
  }
 ],
 "metadata": {
  "kernelspec": {
   "display_name": "Python 3",
   "language": "python",
   "name": "python3"
  },
  "language_info": {
   "codemirror_mode": {
    "name": "ipython",
    "version": 3
   },
   "file_extension": ".py",
   "mimetype": "text/x-python",
   "name": "python",
   "nbconvert_exporter": "python",
   "pygments_lexer": "ipython3",
   "version": "3.13.2"
  }
 },
 "nbformat": 4,
 "nbformat_minor": 5
}
