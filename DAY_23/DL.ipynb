{
  "nbformat": 4,
  "nbformat_minor": 0,
  "metadata": {
    "colab": {
      "provenance": []
    },
    "kernelspec": {
      "name": "python3",
      "display_name": "Python 3"
    },
    "language_info": {
      "name": "python"
    }
  },
  "cells": [
    {
      "cell_type": "code",
      "execution_count": 1,
      "metadata": {
        "id": "8S1pgSv3P7SR"
      },
      "outputs": [],
      "source": [
        "# Introduction to Deep Learning ---->\n",
        "\n",
        "# Neural Networks ---> basis ----. work --->\n",
        "\n",
        "# Artificial Neural Networks"
      ]
    },
    {
      "cell_type": "code",
      "source": [
        "# ML ---> small datasets better result while DL ---> complex  and large data better result\n",
        "# DL ---> input <---> output  ----> hidden layer ---> columns and process ---.\n",
        "# vanish ---> Representative Learninig"
      ],
      "metadata": {
        "id": "hCTaYv66RJHD"
      },
      "execution_count": 2,
      "outputs": []
    },
    {
      "cell_type": "code",
      "source": [
        "# Workflow of ML\n",
        "\n",
        "# Data Ingestion ---> Data Cleaninig and Preprocessing ----> Model training ----> Model Prediction ---->\n",
        "# Model Accuracy ."
      ],
      "metadata": {
        "id": "Y72DJ3UERiPQ"
      },
      "execution_count": 3,
      "outputs": []
    },
    {
      "cell_type": "code",
      "source": [
        "# Workflow of DL\n",
        "\n",
        "# Data Ingestion ---> Data Cleaning and Preprocessing --->\n",
        "# Model_Sequential_Architecture(input_layer,hidden_layer,output_layer),\n",
        "# Model_compile(optimizers , activation_function , loss_function)\n",
        "# model--> training ---> Prediction ---> Accuracy"
      ],
      "metadata": {
        "id": "xCEUKIqhRqrL"
      },
      "execution_count": 4,
      "outputs": []
    },
    {
      "cell_type": "code",
      "source": [
        "# Loss_function ---->> Actual_value - Predicted_value\n",
        "\n",
        "# Numerical_data --> Loss ---> mse , mae\n",
        "\n",
        "# Categorical_data ---->\n",
        "# 2 sub_categories ---> binary_cross_entropy\n",
        "# more than 2 sub_categories ----> sparse_categorical_cross_entropy"
      ],
      "metadata": {
        "id": "1xVBqWFPSTqf"
      },
      "execution_count": 5,
      "outputs": []
    },
    {
      "cell_type": "code",
      "source": [
        "# Optimizers ----> This is the process using we can reduce the loss function ."
      ],
      "metadata": {
        "id": "pHhweEgGS3-5"
      },
      "execution_count": 6,
      "outputs": []
    },
    {
      "cell_type": "code",
      "source": [
        "# Let supppose if we have a simple Line of Equation\n",
        "# y_act = mx + b  .....(1)\n",
        "# y_pred = mx + b ......(2)\n",
        "\n",
        "# Now we will calculate the loss w.r.t. mean squared error\n",
        "# L = 1/n * (y_act - y_Pred)**2\n",
        "# n(features) = 1\n",
        "\n",
        "# L = (y_act - y_pred)**2 ........(3)\n",
        "# Now we will put Equ(2) in eq(3)\n",
        "# L = (y - (mx+b))**2\n",
        "# L = (y-mx-b)**2  .....(4)\n",
        "\n",
        "# here (x,y) ---> Coordinates , m = slope  , b = intercept\n",
        "# dL/dm = d(y-mx-b)**2/dm = 2(y-mx-b)(-x)\n",
        "# dL/dm = -2x(y-mx-b)   ......(5)\n",
        "\n",
        "# dL/db = d(y-mx-b)**2/db = 2(y-mx-b)(-1)\n",
        "# dL/db = -2(y-mx-b)   ......(6)\n",
        "\n",
        "# b_new = b_old - lr*dL/db\n",
        "# m_new = m_old - lr*dL/dm\n",
        "\n",
        "# So , The Equation of Final Line will be\n",
        "# y = m_new * x + b_new  ......(7)"
      ],
      "metadata": {
        "id": "uQgMevaES-Ge"
      },
      "execution_count": 7,
      "outputs": []
    },
    {
      "cell_type": "code",
      "source": [
        "# b_old = 50 , dL/db = 100  = 50--100 = -50\n",
        "# Learning_rate = 0.01\n",
        "# b_new = 50 - 0.01 * 100 = 50 - 1/100 * 100 = 50 - 1 = 49"
      ],
      "metadata": {
        "id": "5DyfWNGqULjA"
      },
      "execution_count": null,
      "outputs": []
    }
  ]
}