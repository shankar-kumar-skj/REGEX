{
 "cells": [
  {
   "cell_type": "markdown",
   "id": "1f0dab2d",
   "metadata": {},
   "source": [
    "# INTRODUCTION TO THE DEEP LEARNING"
   ]
  },
  {
   "cell_type": "markdown",
   "id": "d79ea2e2",
   "metadata": {},
   "source": [
    "### NEURAL NETWORKS  ----> BASIC ---> WORK"
   ]
  },
  {
   "cell_type": "markdown",
   "id": "a5ec8956",
   "metadata": {},
   "source": [
    "### ARTIFICAL NEURAL NETWORKS"
   ]
  },
  {
   "cell_type": "code",
   "execution_count": null,
   "id": "f6656e70",
   "metadata": {},
   "outputs": [],
   "source": [
    "# ML--> SMALL DATASETS BETTER RESULT WHILE DL --> COMPLEX AND LARGE DATA BETTER RESULT\n",
    "# DL ---> "
   ]
  },
  {
   "cell_type": "code",
   "execution_count": 1,
   "id": "05a38fcc",
   "metadata": {},
   "outputs": [],
   "source": [
    "# WORKING OF DEEP LEARNING\n",
    "#  DATA INGESTION ---> DATA CLEANING AND PREPROCCESSING ---> MODEL TRAINING ---> MODEL EVALUATION ---> MODEL ACCURACY"
   ]
  },
  {
   "cell_type": "code",
   "execution_count": 3,
   "id": "294bd053",
   "metadata": {},
   "outputs": [],
   "source": [
    "# WORKING OF DL\n",
    "# DATA INGESTION => DATA CLEANING AND PROCESSING => \n",
    "# MODEL_SEQUENTIAL_ARCHITECTURE (INPUT_LAYER,HIDDEN_LAYER,OUTPUT_LAYER),\n",
    "# MODEL_COMPLIE(OPTIMIZERS,ACTIVATION_FUNCTION,LOSS_FUNCTION)\n",
    "#MODEL --> TRAINING ---> PREDICTION ---> ACCURACY\n"
   ]
  },
  {
   "cell_type": "code",
   "execution_count": null,
   "id": "145ca4a3",
   "metadata": {},
   "outputs": [],
   "source": [
    "# LOSS_FUNCTION  ----> ACTUAL_VALUE - PREDICTED_VALUE\n",
    "# NUMERICAL_DATA --->LOSS --> MSE (MEAN SQUARE ERROR),MAE(MEAN ABSOLUTE ERROR)\n"
   ]
  },
  {
   "cell_type": "code",
   "execution_count": null,
   "id": "15e4feba",
   "metadata": {},
   "outputs": [],
   "source": [
    "# CATEGORICAL_DATA --->\n",
    "# 2_SUB_CATEGORIES --> BINARY_\n",
    "# MORE THAN 2 SUB_CAT"
   ]
  },
  {
   "cell_type": "code",
   "execution_count": null,
   "id": "ded58ce2",
   "metadata": {},
   "outputs": [],
   "source": [
    "#GRADIENT EXPLODING TERM (ZIG-ZIC ) RESOLVE USING => LEARNING RATE (lr=0.01)"
   ]
  },
  {
   "cell_type": "code",
   "execution_count": null,
   "id": "bd5d280e",
   "metadata": {},
   "outputs": [],
   "source": []
  },
  {
   "cell_type": "markdown",
   "id": "663cbfe0",
   "metadata": {},
   "source": [
    "# ANN (HOMEWORK)"
   ]
  },
  {
   "cell_type": "markdown",
   "id": "b182fe2d",
   "metadata": {},
   "source": []
  }
 ],
 "metadata": {
  "kernelspec": {
   "display_name": "Python 3",
   "language": "python",
   "name": "python3"
  },
  "language_info": {
   "codemirror_mode": {
    "name": "ipython",
    "version": 3
   },
   "file_extension": ".py",
   "mimetype": "text/x-python",
   "name": "python",
   "nbconvert_exporter": "python",
   "pygments_lexer": "ipython3",
   "version": "3.13.2"
  }
 },
 "nbformat": 4,
 "nbformat_minor": 5
}
